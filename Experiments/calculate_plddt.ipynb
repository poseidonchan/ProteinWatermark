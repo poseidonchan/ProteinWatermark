{
 "cells": [
  {
   "cell_type": "code",
   "execution_count": 1,
   "id": "b01193af-dfe6-42ea-b316-5af1d476f6f7",
   "metadata": {},
   "outputs": [
    {
     "name": "stderr",
     "output_type": "stream",
     "text": [
      "/fs/cbcb-scratch/cys/miniforge3/envs/esmfold/lib/python3.9/site-packages/tqdm/auto.py:21: TqdmWarning: IProgress not found. Please update jupyter and ipywidgets. See https://ipywidgets.readthedocs.io/en/stable/user_install.html\n",
      "  from .autonotebook import tqdm as notebook_tqdm\n"
     ]
    }
   ],
   "source": [
    "import os\n",
    "import esm\n",
    "import torch\n",
    "import biotite.structure.io as bsio"
   ]
  },
  {
   "cell_type": "code",
   "execution_count": 7,
   "id": "ac1d59e4-3bf9-4ed5-85a1-9d998a594da1",
   "metadata": {},
   "outputs": [],
   "source": [
    "directory = \"../../example_2_outputs/seqs/\""
   ]
  },
  {
   "cell_type": "code",
   "execution_count": 5,
   "id": "a3bc21a2-6870-47a1-ae20-51434c575abe",
   "metadata": {},
   "outputs": [],
   "source": [
    "def average_pLDDT(seq):\n",
    "    model = esm.pretrained.esmfold_v1()\n",
    "    model = model.eval().cuda()\n",
    "    with torch.no_grad():\n",
    "        output = model.infer_pdb(seq)\n",
    "    with open(\"result.pdb\", \"w\") as f:\n",
    "        f.write(output)\n",
    "    struct = bsio.load_structure(\"result.pdb\", extra_fields=[\"b_factor\"])\n",
    "    return struct.b_factor.mean()"
   ]
  },
  {
   "cell_type": "code",
   "execution_count": 11,
   "id": "00f108bc-8f15-4dad-903f-5be472676c33",
   "metadata": {},
   "outputs": [],
   "source": [
    "for filename in os.listdir(directory):\n",
    "    if filename.endswith('.fa'):\n",
    "        print(filename)\n",
    "        file_path = os.path.join(directory, filename)\n",
    "        with open(file_path, 'r') as file:\n",
    "            lines = file.readlines()\n",
    "        # Process the designed sequences\n",
    "        output_lines = []\n",
    "        for i in range(len(lines)):\n",
    "            line = lines[i].strip()\n",
    "            if line.startswith('>T='):\n",
    "                # Extract the designed sequence\n",
    "                sequence = lines[i + 1].strip()\n",
    "                \n",
    "                # Evaluate the designed sequence\n",
    "                plddt_score = average_pLDDT(sequence)\n",
    "        \n",
    "                # Add the pLDDT score to the header\n",
    "                header = line + f', pLDDT={plddt_score}'\n",
    "                output_lines.append(header + '\\n')\n",
    "                output_lines.append(sequence + '\\n')\n",
    "            elif line.startswith('>'):\n",
    "                output_lines.append(line+ '\\n')\n",
    "\n",
    "        # Write the modified sequences to a new file\n",
    "        with open(file_path, 'w') as file:\n",
    "            file.writelines(output_lines)"
   ]
  },
  {
   "cell_type": "code",
   "execution_count": null,
   "id": "80af5da8-7a89-4fd3-a74d-bd9fb52e8529",
   "metadata": {},
   "outputs": [],
   "source": []
  }
 ],
 "metadata": {
  "kernelspec": {
   "display_name": "Python 3 (ipykernel)",
   "language": "python",
   "name": "python3"
  },
  "language_info": {
   "codemirror_mode": {
    "name": "ipython",
    "version": 3
   },
   "file_extension": ".py",
   "mimetype": "text/x-python",
   "name": "python",
   "nbconvert_exporter": "python",
   "pygments_lexer": "ipython3",
   "version": "3.9.18"
  }
 },
 "nbformat": 4,
 "nbformat_minor": 5
}
