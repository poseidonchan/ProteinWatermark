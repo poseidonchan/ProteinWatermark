{
 "cells": [
  {
   "cell_type": "code",
   "execution_count": 1,
   "id": "3ff9e531-cdca-49ea-9ac7-e04e4a75177d",
   "metadata": {},
   "outputs": [],
   "source": [
    "import os\n",
    "import glob\n",
    "import random\n",
    "import seaborn as sns\n",
    "from tqdm import tqdm\n",
    "import matplotlib.pyplot as plt"
   ]
  },
  {
   "cell_type": "code",
   "execution_count": 2,
   "id": "aed1e4b5-fa02-44c4-a193-9f5b09393650",
   "metadata": {},
   "outputs": [],
   "source": [
    "directory = \"./inputs/PDB_monomers/pdbs/\""
   ]
  },
  {
   "cell_type": "code",
   "execution_count": 3,
   "id": "5e362284-c3de-48bc-9462-345e1560989b",
   "metadata": {
    "scrolled": true
   },
   "outputs": [],
   "source": [
    "import os\n",
    "import glob\n",
    "from os.path import basename, exists\n",
    "def pdb_to_fasta(directory):\n",
    "    longer_names = {'ALA': 'A', 'ARG': 'R', 'ASN': 'N', 'ASP': 'D',\n",
    "                    'CYS': 'C', 'GLU': 'E', 'GLN': 'Q', 'GLY': 'G',\n",
    "                    'HIS': 'H', 'ILE': 'I', 'LEU': 'L', 'LYS': 'K',\n",
    "                    'MET': 'M', 'PHE': 'F', 'PRO': 'P', 'SER': 'S',\n",
    "                    'THR': 'T', 'TRP': 'W', 'TYR': 'Y', 'VAL': 'V'}\n",
    "    \n",
    "    pdb_files = glob.glob(os.path.join(directory, '*.pdb'))\n",
    "    sequences_length = {}\n",
    "    for pdbname in tqdm(pdb_files):\n",
    "        assert(exists(pdbname)), f\"File {pdbname} does not exist\"\n",
    "        \n",
    "        lines = open(pdbname, 'r').readlines()\n",
    "        \n",
    "        sequence = ''\n",
    "        oldresnum = '   '\n",
    "        \n",
    "        for line in lines:\n",
    "            if len(line) > 20:\n",
    "                if line[0:3] == 'TER':\n",
    "                    break\n",
    "                elif (line[0:6] == 'HETATM') and (line[17:20] == 'MSE'):  # Selenomethionine\n",
    "                    line = 'ATOM  ' + line[6:17] + 'MET' + line[20:]\n",
    "                    if line[12:14] == 'SE':\n",
    "                        line = line[0:12] + ' S' + line[14:]\n",
    "                    if len(line) > 75 and line[76:78] == 'SE':\n",
    "                        line = line[0:76] + ' S' + line[78:]\n",
    "                \n",
    "                if line[0:4] == 'ATOM':\n",
    "                    resnum = line[23:26]\n",
    "                    if resnum != oldresnum:\n",
    "                        longname = line[17:20]\n",
    "                        sequence += longer_names.get(longname, 'X')\n",
    "                    oldresnum = resnum\n",
    "        \n",
    "        # print(f'>{basename(pdbname)}\\n{sequence}\\nLength: {len(sequence)}\\n')\n",
    "        sequences_length[basename(pdbname)[:-4]] = len(sequence)\n",
    "        \n",
    "    return sequences_length"
   ]
  },
  {
   "cell_type": "code",
   "execution_count": 4,
   "id": "2b16a513-c9d1-4a56-a5bf-a3a751a4b0ae",
   "metadata": {},
   "outputs": [
    {
     "name": "stderr",
     "output_type": "stream",
     "text": [
      "100%|██████████| 4476/4476 [00:15<00:00, 298.19it/s]\n"
     ]
    }
   ],
   "source": [
    "seq2len = pdb_to_fasta(\"./inputs/PDB_monomers/pdbs/\")"
   ]
  },
  {
   "cell_type": "code",
   "execution_count": 5,
   "id": "104bc904-6a10-45db-a589-a42f5e0ef038",
   "metadata": {},
   "outputs": [
    {
     "data": {
      "image/png": "[encoded data removed]",
      "text/plain": [
       "<Figure size 600x400 with 1 Axes>"
      ]
     },
     "metadata": {},
     "output_type": "display_data"
    }
   ],
   "source": [
    "fig, ax = plt.subplots(1, 1, figsize=(6, 4))\n",
    "sns.histplot(seq2len.values(), kde=True, stat='count', binwidth=50, ax=ax)\n",
    "ax.spines['top'].set_visible(False)\n",
    "ax.spines['right'].set_visible(False)\n",
    "ax.set_ylabel('count')\n",
    "ax.set_xlabel('sequence length')\n",
    "ax.get_legend().remove()\n",
    "plt.savefig(\"seqlen.pdf\", format='pdf',bbox_inches='tight')\n",
    "plt.show()"
   ]
  },
  {
   "cell_type": "code",
   "execution_count": 6,
   "id": "c77432cd-666b-45c6-9602-522556e0c114",
   "metadata": {},
   "outputs": [],
   "source": [
    "#\"50-150\", \"150-250\", \"250-350\", \"350-450\", \"450-550\", \"550-650\""
   ]
  },
  {
   "cell_type": "code",
   "execution_count": 7,
   "id": "2d904441-cb06-4d71-a959-c7141aa0c97b",
   "metadata": {},
   "outputs": [],
   "source": [
    "# Define the bins\n",
    "bins = [(50, 150), (150, 250), (250, 350), (350, 450), (450, 550), (550, 650)]\n",
    "\n",
    "# Create a dictionary to store the sampled file names for each bin\n",
    "sampled_files = {bin_range: [] for bin_range in bins}\n",
    "\n",
    "# Stratified sampling\n",
    "for bin_range in bins:\n",
    "    bin_files = [file for file, length in seq2len.items() if bin_range[0] <= length < bin_range[1]]\n",
    "    if len(bin_files) >= 50:\n",
    "        random.seed(10)\n",
    "        sampled_files[bin_range] = random.sample(bin_files, 50)\n",
    "    else:\n",
    "        sampled_files[bin_range] = bin_files"
   ]
  },
  {
   "cell_type": "code",
   "execution_count": 8,
   "id": "c301e9c8-2cfc-4402-b149-0e54eab41ae6",
   "metadata": {},
   "outputs": [
    {
     "name": "stdout",
     "output_type": "stream",
     "text": [
      "50\n",
      "50\n",
      "50\n",
      "50\n",
      "50\n",
      "50\n"
     ]
    }
   ],
   "source": [
    "for k in sampled_files.keys():\n",
    "    print(len(sampled_files[k]))"
   ]
  },
  {
   "cell_type": "code",
   "execution_count": 11,
   "id": "467e36b2-c12a-42bf-bdea-3cb78ec1a996",
   "metadata": {},
   "outputs": [],
   "source": [
    "# Write the sampled file names to a text file\n",
    "with open('sampled_files.txt', 'w') as file:\n",
    "    for files in sampled_files.values():\n",
    "        file.write(\",\".join(files))\n",
    "        file.write(\"\\n\")"
   ]
  },
  {
   "cell_type": "code",
   "execution_count": null,
   "id": "7c6e4a65-0776-48aa-8507-4cd688bd0f80",
   "metadata": {},
   "outputs": [],
   "source": []
  }
 ],
 "metadata": {
  "kernelspec": {
   "display_name": "Python 3 (ipykernel)",
   "language": "python",
   "name": "python3"
  },
  "language_info": {
   "codemirror_mode": {
    "name": "ipython",
    "version": 3
   },
   "file_extension": ".py",
   "mimetype": "text/x-python",
   "name": "python",
   "nbconvert_exporter": "python",
   "pygments_lexer": "ipython3",
   "version": "3.9.18"
  }
 },
 "nbformat": 4,
 "nbformat_minor": 5
}
