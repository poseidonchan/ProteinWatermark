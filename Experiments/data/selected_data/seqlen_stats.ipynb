{
 "cells": [
  {
   "cell_type": "code",
   "execution_count": 1,
   "id": "3ff9e531-cdca-49ea-9ac7-e04e4a75177d",
   "metadata": {},
   "outputs": [],
   "source": [
    "import os\n",
    "import glob\n",
    "import random\n",
    "import seaborn as sns\n",
    "from tqdm import tqdm\n",
    "import matplotlib.pyplot as plt"
   ]
  },
  {
   "cell_type": "code",
   "execution_count": 2,
   "id": "aed1e4b5-fa02-44c4-a193-9f5b09393650",
   "metadata": {},
   "outputs": [],
   "source": [
    "directory = \"./inputs/PDB_monomers/pdbs/\""
   ]
  },
  {
   "cell_type": "code",
   "execution_count": 3,
   "id": "5e362284-c3de-48bc-9462-345e1560989b",
   "metadata": {
    "scrolled": true
   },
   "outputs": [],
   "source": [
    "import os\n",
    "import glob\n",
    "from os.path import basename, exists\n",
    "def pdb_to_fasta(directory):\n",
    "    longer_names = {'ALA': 'A', 'ARG': 'R', 'ASN': 'N', 'ASP': 'D',\n",
    "                    'CYS': 'C', 'GLU': 'E', 'GLN': 'Q', 'GLY': 'G',\n",
    "                    'HIS': 'H', 'ILE': 'I', 'LEU': 'L', 'LYS': 'K',\n",
    "                    'MET': 'M', 'PHE': 'F', 'PRO': 'P', 'SER': 'S',\n",
    "                    'THR': 'T', 'TRP': 'W', 'TYR': 'Y', 'VAL': 'V'}\n",
    "    \n",
    "    pdb_files = glob.glob(os.path.join(directory, '*.pdb'))\n",
    "    sequences_length = {}\n",
    "    for pdbname in tqdm(pdb_files):\n",
    "        assert(exists(pdbname)), f\"File {pdbname} does not exist\"\n",
    "        \n",
    "        lines = open(pdbname, 'r').readlines()\n",
    "        \n",
    "        sequence = ''\n",
    "        oldresnum = '   '\n",
    "        \n",
    "        for line in lines:\n",
    "            if len(line) > 20:\n",
    "                if line[0:3] == 'TER':\n",
    "                    break\n",
    "                elif (line[0:6] == 'HETATM') and (line[17:20] == 'MSE'):  # Selenomethionine\n",
    "                    line = 'ATOM  ' + line[6:17] + 'MET' + line[20:]\n",
    "                    if line[12:14] == 'SE':\n",
    "                        line = line[0:12] + ' S' + line[14:]\n",
    "                    if len(line) > 75 and line[76:78] == 'SE':\n",
    "                        line = line[0:76] + ' S' + line[78:]\n",
    "                \n",
    "                if line[0:4] == 'ATOM':\n",
    "                    resnum = line[23:26]\n",
    "                    if resnum != oldresnum:\n",
    "                        longname = line[17:20]\n",
    "                        sequence += longer_names.get(longname, 'X')\n",
    "                    oldresnum = resnum\n",
    "        \n",
    "        # print(f'>{basename(pdbname)}\\n{sequence}\\nLength: {len(sequence)}\\n')\n",
    "        sequences_length[basename(pdbname)[:-4]] = len(sequence)\n",
    "        \n",
    "    return sequences_length"
   ]
  },
  {
   "cell_type": "code",
   "execution_count": 4,
   "id": "2b16a513-c9d1-4a56-a5bf-a3a751a4b0ae",
   "metadata": {},
   "outputs": [
    {
     "name": "stderr",
     "output_type": "stream",
     "text": [
      "100%|██████████| 4476/4476 [04:03<00:00, 18.37it/s]  \n"
     ]
    }
   ],
   "source": [
    "seq2len = pdb_to_fasta(\"./inputs/PDB_monomers/pdbs/\")"
   ]
  },
  {
   "cell_type": "code",
   "execution_count": 5,
   "id": "104bc904-6a10-45db-a589-a42f5e0ef038",
   "metadata": {},
   "outputs": [
    {
     "data": {
      "image/png": "[encoded data removed]",
      "text/plain": [
       "<Figure size 600x400 with 1 Axes>"
      ]
     },
     "metadata": {},
     "output_type": "display_data"
    }
   ],
   "source": [
    "fig, ax = plt.subplots(1, 1, figsize=(6, 4))\n",
    "sns.histplot(seq2len.values(), kde=True, stat='count', binwidth=10, ax=ax)\n",
    "ax.spines['top'].set_visible(False)\n",
    "ax.spines['right'].set_visible(False)\n",
    "ax.set_ylabel('count')\n",
    "ax.set_xlabel('sequence length')\n",
    "ax.get_legend().remove()\n",
    "plt.savefig(\"seqlen.pdf\", format='pdf',bbox_inches='tight')\n",
    "plt.show()"
   ]
  },
  {
   "cell_type": "code",
   "execution_count": 6,
   "id": "c77432cd-666b-45c6-9602-522556e0c114",
   "metadata": {},
   "outputs": [],
   "source": [
    "#\"50-150\", \"150-250\", \"250-350\", \"350-450\", \"450-550\", \"550-650\""
   ]
  },
  {
   "cell_type": "code",
   "execution_count": 6,
   "id": "2d904441-cb06-4d71-a959-c7141aa0c97b",
   "metadata": {},
   "outputs": [
    {
     "name": "stdout",
     "output_type": "stream",
     "text": [
      "Files sampled from bin (50, 60): ['7W8E']\n",
      "Files sampled from bin (60, 70): ['7VE4']\n",
      "Files sampled from bin (70, 80): ['8S9E']\n",
      "Files sampled from bin (80, 90): ['8A7Z']\n",
      "Files sampled from bin (90, 100): ['8OXI']\n",
      "Files sampled from bin (100, 110): ['7QYW']\n",
      "Files sampled from bin (110, 120): ['7R20']\n",
      "Files sampled from bin (120, 130): ['8FAF']\n",
      "Files sampled from bin (130, 140): ['7FY9']\n",
      "Files sampled from bin (140, 150): ['7ZOS']\n",
      "Files sampled from bin (150, 160): ['7FPN']\n",
      "Files sampled from bin (160, 170): ['7TX5']\n",
      "Files sampled from bin (170, 180): ['7ZK2']\n",
      "Files sampled from bin (180, 190): ['8FKM']\n",
      "Files sampled from bin (190, 200): ['7QS3']\n",
      "Files sampled from bin (200, 210): ['8F03']\n",
      "Files sampled from bin (210, 220): ['7QZS']\n",
      "Files sampled from bin (220, 230): ['7Z0A']\n",
      "Files sampled from bin (230, 240): ['8AHB']\n",
      "Files sampled from bin (240, 250): ['8FMC']\n",
      "Files sampled from bin (250, 260): ['8CMV']\n",
      "Files sampled from bin (260, 270): ['8C1I']\n",
      "Files sampled from bin (270, 280): ['8ETQ']\n",
      "Files sampled from bin (280, 290): ['7ZEE']\n",
      "Files sampled from bin (290, 300): ['7XQ7']\n",
      "Files sampled from bin (300, 310): ['7YBX']\n",
      "Files sampled from bin (310, 320): ['5SG4']\n",
      "Files sampled from bin (320, 330): ['8FEN']\n",
      "Files sampled from bin (330, 340): ['7QMS']\n",
      "Files sampled from bin (340, 350): ['8ASZ']\n",
      "Files sampled from bin (350, 360): ['7WC9']\n",
      "Files sampled from bin (360, 370): ['8ABX']\n",
      "Files sampled from bin (370, 380): ['7T32']\n",
      "Files sampled from bin (380, 390): ['7S15']\n",
      "Files sampled from bin (390, 400): ['8GM1']\n",
      "Files sampled from bin (400, 410): ['7Z2T']\n",
      "Files sampled from bin (410, 420): ['7UI4']\n",
      "Files sampled from bin (420, 430): ['8DWI']\n",
      "Files sampled from bin (430, 440): ['7G9V']\n",
      "Files sampled from bin (440, 450): ['7W09']\n",
      "Files sampled from bin (450, 460): ['7QGI']\n",
      "Files sampled from bin (460, 470): ['7RL2']\n",
      "Files sampled from bin (470, 480): ['7SPT']\n",
      "Files sampled from bin (480, 490): ['8AGG']\n",
      "Files sampled from bin (490, 500): ['8B0K']\n",
      "Files sampled from bin (500, 510): ['8E3S']\n",
      "Files sampled from bin (510, 520): ['8TV8']\n",
      "Files sampled from bin (520, 530): ['7XOR']\n",
      "Files sampled from bin (530, 540): ['8HDF']\n",
      "Files sampled from bin (540, 550): ['8CNS']\n",
      "Files sampled from bin (550, 560): ['7TVB']\n",
      "Files sampled from bin (560, 570): ['8OTB']\n",
      "Files sampled from bin (570, 580): ['8WIM']\n",
      "Files sampled from bin (580, 590): ['7TA5']\n",
      "Files sampled from bin (590, 600): ['8HRN']\n",
      "Files sampled from bin (600, 610): ['7UNP']\n",
      "Files sampled from bin (610, 620): ['7VEV']\n",
      "Files sampled from bin (620, 630): ['8F3G']\n",
      "Files sampled from bin (630, 640): ['8F3X']\n",
      "Files sampled from bin (640, 650): ['8F3F']\n"
     ]
    }
   ],
   "source": [
    "import random\n",
    "\n",
    "# Define the new bin ranges\n",
    "bins = [(i, i+10) for i in range(50, 641, 10)]\n",
    "\n",
    "# Create a dictionary to store the sampled file names for each bin\n",
    "sampled_files = {bin_range: [] for bin_range in bins}\n",
    "\n",
    "# Stratified sampling\n",
    "for bin_range in bins:\n",
    "    bin_files = [file for file, length in seq2len.items() if bin_range[0] <= length < bin_range[1]]\n",
    "    if bin_files:\n",
    "        random.seed(10)\n",
    "        sampled_files[bin_range] = random.sample(bin_files, 1)\n",
    "\n",
    "# Display sampled files\n",
    "for bin_range, files in sampled_files.items():\n",
    "    print(f\"Files sampled from bin {bin_range}: {files}\")"
   ]
  },
  {
   "cell_type": "code",
   "execution_count": 8,
   "id": "467e36b2-c12a-42bf-bdea-3cb78ec1a996",
   "metadata": {},
   "outputs": [],
   "source": [
    "# Write the sampled file names to a text file\n",
    "with open('sampled_files.txt', 'w') as file:\n",
    "    for files in sampled_files.values():\n",
    "        file.write(\",\".join(files))\n",
    "        file.write(\"\\n\")"
   ]
  },
  {
   "cell_type": "code",
   "execution_count": null,
   "id": "7c6e4a65-0776-48aa-8507-4cd688bd0f80",
   "metadata": {},
   "outputs": [],
   "source": []
  }
 ],
 "metadata": {
  "kernelspec": {
   "display_name": "Python 3 (ipykernel)",
   "language": "python",
   "name": "python3"
  },
  "language_info": {
   "codemirror_mode": {
    "name": "ipython",
    "version": 3
   },
   "file_extension": ".py",
   "mimetype": "text/x-python",
   "name": "python",
   "nbconvert_exporter": "python",
   "pygments_lexer": "ipython3",
   "version": "3.9.18"
  }
 },
 "nbformat": 4,
 "nbformat_minor": 5
}
