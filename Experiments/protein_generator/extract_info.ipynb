{
 "cells": [
  {
   "cell_type": "code",
   "execution_count": 1,
   "id": "e554db79-0d48-4a9c-8ec4-a13f7ef8de35",
   "metadata": {},
   "outputs": [],
   "source": [
    "import re\n",
    "import csv\n",
    "\n",
    "\n",
    "sample_re = re.compile(r'Generating sample (\\d+) \\.\\.\\.')\n",
    "entropy_re = re.compile(r'Entropy: ([\\d.]+)')\n",
    "timestep_re = re.compile(r'TIMESTEP \\[(\\d+)/(\\d+)\\].*current PLDDT: ([\\d.]+)')\n",
    "\n",
    "# List to hold extracted data\n",
    "extracted_data = []"
   ]
  },
  {
   "cell_type": "code",
   "execution_count": 28,
   "id": "e7ffc158-f93a-4cb0-b428-64aafda0caed",
   "metadata": {},
   "outputs": [],
   "source": [
    "input_file_path = './secondary_structure_wm.log'"
   ]
  },
  {
   "cell_type": "code",
   "execution_count": 29,
   "id": "35f7aea2-77b1-420d-9f01-984ad68885c2",
   "metadata": {},
   "outputs": [],
   "source": [
    "with open(input_file_path, 'r') as file:\n",
    "    sample_number = None\n",
    "    entropy = None\n",
    "    for line in file:\n",
    "        line = line.strip()\n",
    "        if not line:  # Skip empty lines\n",
    "            continue\n",
    "\n",
    "        # Match each line against the regular expressions\n",
    "        sample_match = sample_re.search(line)\n",
    "        entropy_match = entropy_re.search(line)\n",
    "        timestep_match = timestep_re.search(line)\n",
    "    \n",
    "        if sample_match:\n",
    "            sample_number = sample_match.group(1)\n",
    "        elif entropy_match:\n",
    "            entropy = entropy_match.group(1)\n",
    "        elif timestep_match:\n",
    "            current_iteration, total_iterations, current_plddt = timestep_match.groups()\n",
    "            modified_iteration = int(total_iterations) + 1 - int(current_iteration)\n",
    "            extracted_data.append({\n",
    "                'sample': sample_number,\n",
    "                'iteration': int(modified_iteration),\n",
    "                'entropy': float(entropy),\n",
    "                'pLDDT': float(current_plddt),\n",
    "            })"
   ]
  },
  {
   "cell_type": "code",
   "execution_count": 30,
   "id": "4f610484-cbf4-4fa3-989a-0f324eb42898",
   "metadata": {},
   "outputs": [
    {
     "data": {
      "text/html": [
       "<div>\n",
       "<style scoped>\n",
       "    .dataframe tbody tr th:only-of-type {\n",
       "        vertical-align: middle;\n",
       "    }\n",
       "\n",
       "    .dataframe tbody tr th {\n",
       "        vertical-align: top;\n",
       "    }\n",
       "\n",
       "    .dataframe thead th {\n",
       "        text-align: right;\n",
       "    }\n",
       "</style>\n",
       "<table border=\"1\" class=\"dataframe\">\n",
       "  <thead>\n",
       "    <tr style=\"text-align: right;\">\n",
       "      <th></th>\n",
       "      <th>sample</th>\n",
       "      <th>iteration</th>\n",
       "      <th>entropy</th>\n",
       "      <th>pLDDT</th>\n",
       "    </tr>\n",
       "  </thead>\n",
       "  <tbody>\n",
       "    <tr>\n",
       "      <th>7495</th>\n",
       "      <td>000049</td>\n",
       "      <td>21</td>\n",
       "      <td>0.737793</td>\n",
       "      <td>0.7305</td>\n",
       "    </tr>\n",
       "    <tr>\n",
       "      <th>7496</th>\n",
       "      <td>000049</td>\n",
       "      <td>22</td>\n",
       "      <td>0.704590</td>\n",
       "      <td>0.6548</td>\n",
       "    </tr>\n",
       "    <tr>\n",
       "      <th>7497</th>\n",
       "      <td>000049</td>\n",
       "      <td>23</td>\n",
       "      <td>0.883301</td>\n",
       "      <td>0.6831</td>\n",
       "    </tr>\n",
       "    <tr>\n",
       "      <th>7498</th>\n",
       "      <td>000049</td>\n",
       "      <td>24</td>\n",
       "      <td>0.975586</td>\n",
       "      <td>0.6963</td>\n",
       "    </tr>\n",
       "    <tr>\n",
       "      <th>7499</th>\n",
       "      <td>000049</td>\n",
       "      <td>25</td>\n",
       "      <td>1.250000</td>\n",
       "      <td>0.7368</td>\n",
       "    </tr>\n",
       "  </tbody>\n",
       "</table>\n",
       "</div>"
      ],
      "text/plain": [
       "      sample  iteration   entropy   pLDDT\n",
       "7495  000049         21  0.737793  0.7305\n",
       "7496  000049         22  0.704590  0.6548\n",
       "7497  000049         23  0.883301  0.6831\n",
       "7498  000049         24  0.975586  0.6963\n",
       "7499  000049         25  1.250000  0.7368"
      ]
     },
     "execution_count": 30,
     "metadata": {},
     "output_type": "execute_result"
    }
   ],
   "source": [
    "import pandas as pd\n",
    "\n",
    "# Convert extracted data into a pandas DataFrame\n",
    "df = pd.DataFrame(extracted_data)\n",
    "\n",
    "# Display the DataFrame to ensure it's correctly formatted\n",
    "df.tail()"
   ]
  },
  {
   "cell_type": "code",
   "execution_count": 31,
   "id": "fcc403bc-3a92-4d42-9858-98efb2dd3a19",
   "metadata": {},
   "outputs": [],
   "source": [
    "df.to_csv('secondary_structure_wm.csv')"
   ]
  },
  {
   "cell_type": "code",
   "execution_count": null,
   "id": "0269ab97-e7bd-4986-8f83-62ed3f9794a8",
   "metadata": {},
   "outputs": [],
   "source": []
  }
 ],
 "metadata": {
  "kernelspec": {
   "display_name": "Python 3 (ipykernel)",
   "language": "python",
   "name": "python3"
  },
  "language_info": {
   "codemirror_mode": {
    "name": "ipython",
    "version": 3
   },
   "file_extension": ".py",
   "mimetype": "text/x-python",
   "name": "python",
   "nbconvert_exporter": "python",
   "pygments_lexer": "ipython3",
   "version": "3.9.12"
  }
 },
 "nbformat": 4,
 "nbformat_minor": 5
}
